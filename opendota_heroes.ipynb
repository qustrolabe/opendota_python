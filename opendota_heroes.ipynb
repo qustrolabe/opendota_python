{
 "cells": [
  {
   "cell_type": "code",
   "execution_count": 1,
   "metadata": {},
   "outputs": [],
   "source": [
    "import requests\n",
    "import random"
   ]
  },
  {
   "cell_type": "code",
   "execution_count": 2,
   "metadata": {},
   "outputs": [],
   "source": [
    "hero_stats = requests.get('https://api.opendota.com/api/heroStats')\n",
    "hero_stats_json = hero_stats.json()"
   ]
  },
  {
   "cell_type": "code",
   "execution_count": 3,
   "metadata": {},
   "outputs": [],
   "source": [
    "heroes = {}\n",
    "\n",
    "for hero in hero_stats_json:\n",
    "\n",
    "    heroes[hero['localized_name']] = {\n",
    "        'turbo_picks': hero['turbo_picks'],\n",
    "        'turbo_wins' : hero['turbo_wins']\n",
    "    }"
   ]
  },
  {
   "cell_type": "code",
   "execution_count": 4,
   "metadata": {},
   "outputs": [],
   "source": [
    "# Calculate total matches\n",
    "total_turbo_matches = 0\n",
    "for hero in heroes:\n",
    "    total_turbo_matches += heroes[hero]['turbo_picks']\n",
    "total_turbo_matches = total_turbo_matches/10\n",
    "\n",
    "def winrate(hero):\n",
    "    return hero['turbo_wins']/hero['turbo_picks']*100\n",
    "\n",
    "def pickrate(hero):\n",
    "    return hero['turbo_picks']/total_turbo_matches*100"
   ]
  },
  {
   "cell_type": "code",
   "execution_count": 5,
   "metadata": {},
   "outputs": [
    {
     "name": "stdout",
     "output_type": "stream",
     "text": [
      "Shadow Demon\n",
      "Turbo Winrate: 40.0\n",
      "Turbo Pickrate: 3.0\n"
     ]
    }
   ],
   "source": [
    "# Pick random hero\n",
    "hero = random.choice(list(heroes.keys()))\n",
    "\n",
    "print(hero)\n",
    "w_rate = winrate(heroes[hero])\n",
    "p_rate = pickrate(heroes[hero])\n",
    "\n",
    "print(\"Turbo Winrate: %.1f\" % w_rate)\n",
    "print(\"Turbo Pickrate: %.1f\" % p_rate)"
   ]
  }
 ],
 "metadata": {
  "kernelspec": {
   "display_name": "Python 3",
   "language": "python",
   "name": "python3"
  },
  "language_info": {
   "codemirror_mode": {
    "name": "ipython",
    "version": 3
   },
   "file_extension": ".py",
   "mimetype": "text/x-python",
   "name": "python",
   "nbconvert_exporter": "python",
   "pygments_lexer": "ipython3",
   "version": "3.10.11"
  }
 },
 "nbformat": 4,
 "nbformat_minor": 2
}
