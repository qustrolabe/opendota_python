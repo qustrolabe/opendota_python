{
 "cells": [
  {
   "cell_type": "code",
   "execution_count": null,
   "metadata": {},
   "outputs": [],
   "source": [
    "import requests\n",
    "import time"
   ]
  },
  {
   "cell_type": "code",
   "execution_count": null,
   "metadata": {},
   "outputs": [],
   "source": [
    "id = '' # Steam32 account ID, see at OpenDota.com My Profile page\n",
    "\n",
    "api_base = 'https://api.opendota.com/api/'"
   ]
  },
  {
   "cell_type": "code",
   "execution_count": null,
   "metadata": {},
   "outputs": [],
   "source": [
    "def request_parse(match_id):\n",
    "    response = requests.post(api_base+'request/'+ str(match_id))\n",
    "    return response.json()"
   ]
  },
  {
   "cell_type": "code",
   "execution_count": null,
   "metadata": {},
   "outputs": [],
   "source": [
    "all_matches = requests.get(api_base+'players/%s/matches?significant=0&game_mode=23' % id) # &game_mode=23 - turbo, 4 - single draft, 22 - all draft\n",
    "all_matches_json = all_matches.json()"
   ]
  },
  {
   "cell_type": "code",
   "execution_count": null,
   "metadata": {},
   "outputs": [],
   "source": [
    "print(len(all_matches_json))"
   ]
  },
  {
   "cell_type": "code",
   "execution_count": null,
   "metadata": {},
   "outputs": [],
   "source": [
    "counter = 1\n",
    "for match in all_matches_json:\n",
    "    print('[%d]' % counter, end=' ')\n",
    "    if match['version'] == None:\n",
    "        # Print counter\n",
    "\n",
    "        response = request_parse(match['match_id'])\n",
    "        print(\"requesting parse for match %s - %s\" % (match['match_id'], response))\n",
    "        time.sleep(3)\n",
    "    else:\n",
    "        print(\"match %s skipped\" % match['match_id'])\n",
    "    counter += 1\n",
    "    if counter > 10:\n",
    "        break"
   ]
  }
 ],
 "metadata": {
  "kernelspec": {
   "display_name": "Python 3",
   "language": "python",
   "name": "python3"
  },
  "language_info": {
   "codemirror_mode": {
    "name": "ipython",
    "version": 3
   },
   "file_extension": ".py",
   "mimetype": "text/x-python",
   "name": "python",
   "nbconvert_exporter": "python",
   "pygments_lexer": "ipython3",
   "version": "3.10.11"
  }
 },
 "nbformat": 4,
 "nbformat_minor": 2
}
